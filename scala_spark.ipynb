{
 "cells": [
  {
   "cell_type": "code",
   "execution_count": 1,
   "metadata": {
    "scrolled": true
   },
   "outputs": [
    {
     "data": {
      "text/plain": [
       "\u001b[32mimport \u001b[39m\u001b[36m$ivy.$\u001b[39m"
      ]
     },
     "execution_count": 1,
     "metadata": {},
     "output_type": "execute_result"
    }
   ],
   "source": [
    "import $ivy.`org.apache.spark:spark-sql_2.13:3.5.1`"
   ]
  },
  {
   "cell_type": "code",
   "execution_count": 2,
   "metadata": {},
   "outputs": [
    {
     "name": "stderr",
     "output_type": "stream",
     "text": [
      "Using Spark's default log4j profile: org/apache/spark/log4j2-defaults.properties\n",
      "24/02/28 18:56:46 INFO SparkContext: Running Spark version 3.5.1\n",
      "24/02/28 18:56:46 INFO SparkContext: OS info Linux, 5.15.133.1-microsoft-standard-WSL2, amd64\n",
      "24/02/28 18:56:46 INFO SparkContext: Java version 1.8.0_382\n",
      "24/02/28 18:56:46 WARN NativeCodeLoader: Unable to load native-hadoop library for your platform... using builtin-java classes where applicable\n",
      "24/02/28 18:56:46 INFO ResourceUtils: ==============================================================\n",
      "24/02/28 18:56:46 INFO ResourceUtils: No custom resources configured for spark.driver.\n",
      "24/02/28 18:56:46 INFO ResourceUtils: ==============================================================\n",
      "24/02/28 18:56:46 INFO SparkContext: Submitted application: 4ee7c4c6-6598-4886-a5f4-96a938ede2e2\n",
      "24/02/28 18:56:46 INFO ResourceProfile: Default ResourceProfile created, executor resources: Map(cores -> name: cores, amount: 1, script: , vendor: , memory -> name: memory, amount: 1024, script: , vendor: , offHeap -> name: offHeap, amount: 0, script: , vendor: ), task resources: Map(cpus -> name: cpus, amount: 1.0)\n",
      "24/02/28 18:56:46 INFO ResourceProfile: Limiting resource is cpu\n",
      "24/02/28 18:56:46 INFO ResourceProfileManager: Added ResourceProfile id: 0\n",
      "24/02/28 18:56:46 INFO SecurityManager: Changing view acls to: jovyan\n",
      "24/02/28 18:56:46 INFO SecurityManager: Changing modify acls to: jovyan\n",
      "24/02/28 18:56:46 INFO SecurityManager: Changing view acls groups to: \n",
      "24/02/28 18:56:46 INFO SecurityManager: Changing modify acls groups to: \n",
      "24/02/28 18:56:46 INFO SecurityManager: SecurityManager: authentication disabled; ui acls disabled; users with view permissions: jovyan; groups with view permissions: EMPTY; users with modify permissions: jovyan; groups with modify permissions: EMPTY\n",
      "24/02/28 18:56:46 INFO Utils: Successfully started service 'sparkDriver' on port 44965.\n",
      "24/02/28 18:56:46 INFO SparkEnv: Registering MapOutputTracker\n",
      "24/02/28 18:56:46 INFO SparkEnv: Registering BlockManagerMaster\n",
      "24/02/28 18:56:46 INFO BlockManagerMasterEndpoint: Using org.apache.spark.storage.DefaultTopologyMapper for getting topology information\n",
      "24/02/28 18:56:46 INFO BlockManagerMasterEndpoint: BlockManagerMasterEndpoint up\n",
      "24/02/28 18:56:46 INFO SparkEnv: Registering BlockManagerMasterHeartbeat\n",
      "24/02/28 18:56:46 INFO DiskBlockManager: Created local directory at /tmp/blockmgr-31a74436-60e0-4cb9-b548-9a80c0418617\n",
      "24/02/28 18:56:46 INFO MemoryStore: MemoryStore started with capacity 1920.3 MiB\n",
      "24/02/28 18:56:46 INFO SparkEnv: Registering OutputCommitCoordinator\n",
      "24/02/28 18:56:47 INFO JettyUtils: Start Jetty 0.0.0.0:4040 for SparkUI\n",
      "24/02/28 18:56:47 INFO Utils: Successfully started service 'SparkUI' on port 4040.\n",
      "24/02/28 18:56:47 INFO Executor: Starting executor ID driver on host 6fb859bfa24c\n",
      "24/02/28 18:56:47 INFO Executor: OS info Linux, 5.15.133.1-microsoft-standard-WSL2, amd64\n",
      "24/02/28 18:56:47 INFO Executor: Java version 1.8.0_382\n",
      "24/02/28 18:56:47 INFO Executor: Starting executor with user classpath (userClassPathFirst = false): ''\n",
      "24/02/28 18:56:47 INFO Executor: Created or updated repl class loader org.apache.spark.util.MutableURLClassLoader@63bc41db for default.\n",
      "24/02/28 18:56:47 INFO Utils: Successfully started service 'org.apache.spark.network.netty.NettyBlockTransferService' on port 42409.\n",
      "24/02/28 18:56:47 INFO NettyBlockTransferService: Server created on 6fb859bfa24c:42409\n",
      "24/02/28 18:56:47 INFO BlockManager: Using org.apache.spark.storage.RandomBlockReplicationPolicy for block replication policy\n",
      "24/02/28 18:56:47 INFO BlockManagerMaster: Registering BlockManager BlockManagerId(driver, 6fb859bfa24c, 42409, None)\n",
      "24/02/28 18:56:47 INFO BlockManagerMasterEndpoint: Registering block manager 6fb859bfa24c:42409 with 1920.3 MiB RAM, BlockManagerId(driver, 6fb859bfa24c, 42409, None)\n",
      "24/02/28 18:56:47 INFO BlockManagerMaster: Registered BlockManager BlockManagerId(driver, 6fb859bfa24c, 42409, None)\n",
      "24/02/28 18:56:47 INFO BlockManager: Initialized BlockManager: BlockManagerId(driver, 6fb859bfa24c, 42409, None)\n"
     ]
    },
    {
     "data": {
      "text/plain": [
       "\u001b[36mspark\u001b[39m: \u001b[32morg\u001b[39m.\u001b[32mapache\u001b[39m.\u001b[32mspark\u001b[39m.\u001b[32msql\u001b[39m.\u001b[32mSparkSession\u001b[39m = org.apache.spark.sql.SparkSession@2f2d5f68\n",
       "\u001b[36mres2_1\u001b[39m: \u001b[32mString\u001b[39m = \u001b[32m\"3.5.1\"\u001b[39m"
      ]
     },
     "execution_count": 2,
     "metadata": {},
     "output_type": "execute_result"
    }
   ],
   "source": [
    "val spark = org.apache.spark.sql.SparkSession.builder().master(\"local\").getOrCreate()\n",
    "spark.version"
   ]
  },
  {
   "cell_type": "code",
   "execution_count": 3,
   "metadata": {},
   "outputs": [
    {
     "data": {
      "text/plain": [
       "\u001b[32mimport \u001b[39m\u001b[36morg.apache.spark.sql.DataFrame\u001b[39m\n",
       "\u001b[32mimport \u001b[39m\u001b[36morg.apache.spark.sql.functions.{lit, concat}\u001b[39m\n",
       "defined \u001b[32mfunction\u001b[39m \u001b[36mconvertToString\u001b[39m\n",
       "defined \u001b[32mfunction\u001b[39m \u001b[36maddId2\u001b[39m"
      ]
     },
     "execution_count": 3,
     "metadata": {},
     "output_type": "execute_result"
    }
   ],
   "source": [
    "import org.apache.spark.sql.DataFrame\n",
    "import org.apache.spark.sql.functions.{lit, concat}\n",
    "\n",
    "\n",
    "def convertToString(\n",
    "    input: String,\n",
    "    output: String\n",
    "): DataFrame => DataFrame = {\n",
    "    def op(data: DataFrame): DataFrame =\n",
    "        data.withColumn(\n",
    "            output,\n",
    "            concat(lit(\"value: \"),  data(input))\n",
    "        )\n",
    "    op\n",
    "}\n",
    "\n",
    "def addId2(data: DataFrame): DataFrame = data.withColumn(\"id2\", lit(\"fake id\"))"
   ]
  },
  {
   "cell_type": "code",
   "execution_count": 4,
   "metadata": {},
   "outputs": [
    {
     "data": {
      "text/plain": [
       "defined \u001b[32mfunction\u001b[39m \u001b[36mcompose\u001b[39m"
      ]
     },
     "execution_count": 4,
     "metadata": {},
     "output_type": "execute_result"
    }
   ],
   "source": [
    "def compose[A, B, C](\n",
    "    f: A => B,\n",
    "    g: B => C,\n",
    "): A => C = {\n",
    "    def op(value: A): C = g(f(value))\n",
    "    op\n",
    "}\n"
   ]
  },
  {
   "cell_type": "code",
   "execution_count": 5,
   "metadata": {},
   "outputs": [
    {
     "name": "stderr",
     "output_type": "stream",
     "text": [
      "cell5.sc:1: Auto-application to `()` is deprecated. Supply the empty argument list `()` explicitly to invoke method toDF,\n",
      "or remove the empty argument list from its definition (Java-defined methods are exempt).\n",
      "In Scala 3, an unapplied method like this will be eta-expanded into a function. [quickfixable]\n",
      "val data = spark.range(100).toDF\n",
      "                            ^\n",
      "24/02/28 18:56:49 INFO SharedState: Setting hive.metastore.warehouse.dir ('null') to the value of spark.sql.warehouse.dir.\n",
      "24/02/28 18:56:49 INFO SharedState: Warehouse path is 'file:/home/jovyan/spark-warehouse'.\n"
     ]
    },
    {
     "name": "stdout",
     "output_type": "stream",
     "text": [
      "root\n",
      " |-- id: long (nullable = false)\n",
      " |-- id2: string (nullable = false)\n",
      " |-- id_text: string (nullable = false)\n",
      "\n"
     ]
    },
    {
     "name": "stderr",
     "output_type": "stream",
     "text": [
      "24/02/28 18:56:52 INFO CodeGenerator: Code generated in 287.953976 ms\n",
      "24/02/28 18:56:52 INFO SparkContext: Starting job: show at cell5.sc:11\n",
      "24/02/28 18:56:52 INFO DAGScheduler: Got job 0 (show at cell5.sc:11) with 1 output partitions\n",
      "24/02/28 18:56:52 INFO DAGScheduler: Final stage: ResultStage 0 (show at cell5.sc:11)\n",
      "24/02/28 18:56:52 INFO DAGScheduler: Parents of final stage: List()\n",
      "24/02/28 18:56:52 INFO DAGScheduler: Missing parents: List()\n",
      "24/02/28 18:56:52 INFO DAGScheduler: Submitting ResultStage 0 (MapPartitionsRDD[3] at show at cell5.sc:11), which has no missing parents\n",
      "24/02/28 18:56:53 INFO MemoryStore: Block broadcast_0 stored as values in memory (estimated size 12.3 KiB, free 1920.3 MiB)\n",
      "24/02/28 18:56:53 INFO MemoryStore: Block broadcast_0_piece0 stored as bytes in memory (estimated size 5.6 KiB, free 1920.3 MiB)\n",
      "24/02/28 18:56:53 INFO BlockManagerInfo: Added broadcast_0_piece0 in memory on 6fb859bfa24c:42409 (size: 5.6 KiB, free: 1920.3 MiB)\n",
      "24/02/28 18:56:53 INFO SparkContext: Created broadcast 0 from broadcast at DAGScheduler.scala:1585\n",
      "24/02/28 18:56:53 INFO DAGScheduler: Submitting 1 missing tasks from ResultStage 0 (MapPartitionsRDD[3] at show at cell5.sc:11) (first 15 tasks are for partitions Vector(0))\n",
      "24/02/28 18:56:53 INFO TaskSchedulerImpl: Adding task set 0.0 with 1 tasks resource profile 0\n",
      "24/02/28 18:56:53 INFO TaskSetManager: Starting task 0.0 in stage 0.0 (TID 0) (6fb859bfa24c, executor driver, partition 0, PROCESS_LOCAL, 7830 bytes) \n",
      "24/02/28 18:56:53 INFO Executor: Running task 0.0 in stage 0.0 (TID 0)\n",
      "24/02/28 18:56:53 INFO CodeGenerator: Code generated in 26.613958 ms\n",
      "24/02/28 18:56:53 INFO Executor: Finished task 0.0 in stage 0.0 (TID 0). 1967 bytes result sent to driver\n",
      "24/02/28 18:56:53 INFO TaskSetManager: Finished task 0.0 in stage 0.0 (TID 0) in 351 ms on 6fb859bfa24c (executor driver) (1/1)\n",
      "24/02/28 18:56:53 INFO TaskSchedulerImpl: Removed TaskSet 0.0, whose tasks have all completed, from pool \n",
      "24/02/28 18:56:53 INFO DAGScheduler: ResultStage 0 (show at cell5.sc:11) finished in 0.588 s\n",
      "24/02/28 18:56:53 INFO DAGScheduler: Job 0 is finished. Cancelling potential speculative or zombie tasks for this job\n",
      "24/02/28 18:56:53 INFO TaskSchedulerImpl: Killing all running tasks in stage 0: Stage finished\n",
      "24/02/28 18:56:53 INFO DAGScheduler: Job 0 finished: show at cell5.sc:11, took 0.652456 s\n",
      "24/02/28 18:56:53 INFO CodeGenerator: Code generated in 25.881445 ms\n"
     ]
    },
    {
     "name": "stdout",
     "output_type": "stream",
     "text": [
      "+---+-------+---------+\n",
      "| id|    id2|  id_text|\n",
      "+---+-------+---------+\n",
      "|  0|fake id| value: 0|\n",
      "|  1|fake id| value: 1|\n",
      "|  2|fake id| value: 2|\n",
      "|  3|fake id| value: 3|\n",
      "|  4|fake id| value: 4|\n",
      "|  5|fake id| value: 5|\n",
      "|  6|fake id| value: 6|\n",
      "|  7|fake id| value: 7|\n",
      "|  8|fake id| value: 8|\n",
      "|  9|fake id| value: 9|\n",
      "| 10|fake id|value: 10|\n",
      "| 11|fake id|value: 11|\n",
      "| 12|fake id|value: 12|\n",
      "| 13|fake id|value: 13|\n",
      "| 14|fake id|value: 14|\n",
      "| 15|fake id|value: 15|\n",
      "| 16|fake id|value: 16|\n",
      "| 17|fake id|value: 17|\n",
      "| 18|fake id|value: 18|\n",
      "| 19|fake id|value: 19|\n",
      "+---+-------+---------+\n",
      "only showing top 20 rows\n",
      "\n"
     ]
    },
    {
     "data": {
      "text/plain": [
       "\u001b[36mdata\u001b[39m: \u001b[32mDataFrame\u001b[39m = [id: bigint]\n",
       "\u001b[36mtransformation\u001b[39m: \u001b[32mDataFrame\u001b[39m => \u001b[32mDataFrame\u001b[39m = ammonite.$sess.cell4$Helper$$Lambda$4132/1209190085@5b55ca9b\n",
       "\u001b[36mtransformed\u001b[39m: \u001b[32morg\u001b[39m.\u001b[32mapache\u001b[39m.\u001b[32mspark\u001b[39m.\u001b[32msql\u001b[39m.\u001b[32mDataset\u001b[39m[\u001b[32morg\u001b[39m.\u001b[32mapache\u001b[39m.\u001b[32mspark\u001b[39m.\u001b[32msql\u001b[39m.\u001b[32mRow\u001b[39m] = [id: bigint, id2: string ... 1 more field]"
      ]
     },
     "execution_count": 5,
     "metadata": {},
     "output_type": "execute_result"
    }
   ],
   "source": [
    "val data = spark.range(100).toDF\n",
    "\n",
    "val transformation = compose(\n",
    "    addId2,\n",
    "    convertToString(\"id\", \"id_text\"),\n",
    ")\n",
    "\n",
    "val transformed = data.transform(transformation)\n",
    "\n",
    "transformed.printSchema()\n",
    "transformed.show()"
   ]
  }
 ],
 "metadata": {
  "kernelspec": {
   "display_name": "Scala 2.13",
   "language": "scala",
   "name": "scala213"
  },
  "language_info": {
   "codemirror_mode": "text/x-scala",
   "file_extension": ".sc",
   "mimetype": "text/x-scala",
   "name": "scala",
   "nbconvert_exporter": "script",
   "version": "2.13.12"
  }
 },
 "nbformat": 4,
 "nbformat_minor": 4
}
