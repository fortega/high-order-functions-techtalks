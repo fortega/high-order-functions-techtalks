{
 "cells": [
  {
   "cell_type": "code",
   "execution_count": 1,
   "metadata": {},
   "outputs": [
    {
     "data": {
      "text/plain": [
       "\u001b[36mbase\u001b[39m: \u001b[32mList\u001b[39m[\u001b[32mDouble\u001b[39m] = \u001b[33mList\u001b[39m(\n",
       "  \u001b[32m0.3575458994271711\u001b[39m,\n",
       "  \u001b[32m0.12221052251369346\u001b[39m,\n",
       "  \u001b[32m0.29647223379359133\u001b[39m,\n",
       "  \u001b[32m0.621774300605611\u001b[39m,\n",
       "  \u001b[32m0.46473969921030744\u001b[39m,\n",
       "  \u001b[32m0.1848487959478161\u001b[39m,\n",
       "  \u001b[32m0.8032629466257281\u001b[39m,\n",
       "  \u001b[32m0.8564244358421973\u001b[39m,\n",
       "  \u001b[32m0.6169414518883778\u001b[39m,\n",
       "  \u001b[32m0.47098290946956034\u001b[39m,\n",
       "  \u001b[32m0.9815291566655487\u001b[39m\n",
       ")"
      ]
     },
     "execution_count": 1,
     "metadata": {},
     "output_type": "execute_result"
    }
   ],
   "source": [
    "val base = List(\n",
    "  0.3575458994271711,\n",
    "  0.12221052251369346,\n",
    "  0.29647223379359133,\n",
    "  0.621774300605611,\n",
    "  0.46473969921030744,\n",
    "  0.1848487959478161,\n",
    "  0.8032629466257281,\n",
    "  0.8564244358421973,\n",
    "  0.6169414518883778,\n",
    "  0.47098290946956034,\n",
    "  0.9815291566655487\n",
    ")"
   ]
  },
  {
   "cell_type": "markdown",
   "metadata": {},
   "source": [
    "# Filter\n",
    "\n",
    "T => Bool"
   ]
  },
  {
   "cell_type": "code",
   "execution_count": 2,
   "metadata": {},
   "outputs": [
    {
     "data": {
      "text/plain": [
       "\u001b[36mres2\u001b[39m: \u001b[32mList\u001b[39m[\u001b[32mDouble\u001b[39m] = \u001b[33mList\u001b[39m(\n",
       "  \u001b[32m0.621774300605611\u001b[39m,\n",
       "  \u001b[32m0.8032629466257281\u001b[39m,\n",
       "  \u001b[32m0.8564244358421973\u001b[39m,\n",
       "  \u001b[32m0.6169414518883778\u001b[39m,\n",
       "  \u001b[32m0.9815291566655487\u001b[39m\n",
       ")"
      ]
     },
     "execution_count": 2,
     "metadata": {},
     "output_type": "execute_result"
    }
   ],
   "source": [
    "base.filter(i => i > 0.5)"
   ]
  },
  {
   "cell_type": "markdown",
   "metadata": {},
   "source": [
    "# Sort"
   ]
  },
  {
   "cell_type": "code",
   "execution_count": 3,
   "metadata": {},
   "outputs": [
    {
     "data": {
      "text/plain": [
       "defined \u001b[32mfunction\u001b[39m \u001b[36msecondDigit\u001b[39m\n",
       "\u001b[36msorted\u001b[39m: \u001b[32mList\u001b[39m[\u001b[32mDouble\u001b[39m] = \u001b[33mList\u001b[39m(\n",
       "  \u001b[32m0.12221052251369346\u001b[39m,\n",
       "  \u001b[32m0.1848487959478161\u001b[39m,\n",
       "  \u001b[32m0.29647223379359133\u001b[39m,\n",
       "  \u001b[32m0.3575458994271711\u001b[39m,\n",
       "  \u001b[32m0.46473969921030744\u001b[39m,\n",
       "  \u001b[32m0.47098290946956034\u001b[39m,\n",
       "  \u001b[32m0.6169414518883778\u001b[39m,\n",
       "  \u001b[32m0.621774300605611\u001b[39m,\n",
       "  \u001b[32m0.8032629466257281\u001b[39m,\n",
       "  \u001b[32m0.8564244358421973\u001b[39m,\n",
       "  \u001b[32m0.9815291566655487\u001b[39m\n",
       ")\n",
       "\u001b[36msortedSecond\u001b[39m: \u001b[32mList\u001b[39m[\u001b[32mDouble\u001b[39m] = \u001b[33mList\u001b[39m(\n",
       "  \u001b[32m0.8032629466257281\u001b[39m,\n",
       "  \u001b[32m0.6169414518883778\u001b[39m,\n",
       "  \u001b[32m0.12221052251369346\u001b[39m,\n",
       "  \u001b[32m0.621774300605611\u001b[39m,\n",
       "  \u001b[32m0.3575458994271711\u001b[39m,\n",
       "  \u001b[32m0.8564244358421973\u001b[39m,\n",
       "  \u001b[32m0.46473969921030744\u001b[39m,\n",
       "  \u001b[32m0.47098290946956034\u001b[39m,\n",
       "  \u001b[32m0.1848487959478161\u001b[39m,\n",
       "  \u001b[32m0.9815291566655487\u001b[39m,\n",
       "  \u001b[32m0.29647223379359133\u001b[39m\n",
       ")"
      ]
     },
     "execution_count": 3,
     "metadata": {},
     "output_type": "execute_result"
    }
   ],
   "source": [
    "def secondDigit(a: Double) = {\n",
    "    (a*100).toInt % 10\n",
    "}\n",
    "\n",
    "val sorted = base.sortWith(_ < _)\n",
    "val sortedSecond = base.sortWith{\n",
    "    case (a, b) => secondDigit(a) < secondDigit(b)\n",
    "}"
   ]
  },
  {
   "cell_type": "markdown",
   "metadata": {},
   "source": [
    "# Map"
   ]
  },
  {
   "cell_type": "code",
   "execution_count": 4,
   "metadata": {},
   "outputs": [
    {
     "data": {
      "text/plain": [
       "\u001b[36mres4\u001b[39m: \u001b[32mList\u001b[39m[(\u001b[32mDouble\u001b[39m, \u001b[32mInt\u001b[39m)] = \u001b[33mList\u001b[39m(\n",
       "  (\u001b[32m0.3575458994271711\u001b[39m, \u001b[32m35\u001b[39m),\n",
       "  (\u001b[32m0.12221052251369346\u001b[39m, \u001b[32m12\u001b[39m),\n",
       "  (\u001b[32m0.29647223379359133\u001b[39m, \u001b[32m29\u001b[39m),\n",
       "  (\u001b[32m0.621774300605611\u001b[39m, \u001b[32m62\u001b[39m),\n",
       "  (\u001b[32m0.46473969921030744\u001b[39m, \u001b[32m46\u001b[39m),\n",
       "  (\u001b[32m0.1848487959478161\u001b[39m, \u001b[32m18\u001b[39m),\n",
       "  (\u001b[32m0.8032629466257281\u001b[39m, \u001b[32m80\u001b[39m),\n",
       "  (\u001b[32m0.8564244358421973\u001b[39m, \u001b[32m85\u001b[39m),\n",
       "  (\u001b[32m0.6169414518883778\u001b[39m, \u001b[32m61\u001b[39m),\n",
       "  (\u001b[32m0.47098290946956034\u001b[39m, \u001b[32m47\u001b[39m),\n",
       "  (\u001b[32m0.9815291566655487\u001b[39m, \u001b[32m98\u001b[39m)\n",
       ")"
      ]
     },
     "execution_count": 4,
     "metadata": {},
     "output_type": "execute_result"
    }
   ],
   "source": [
    "base.map(i => i -> (i*100).toInt)"
   ]
  },
  {
   "cell_type": "markdown",
   "metadata": {},
   "source": [
    "# Reduce"
   ]
  },
  {
   "cell_type": "code",
   "execution_count": 5,
   "metadata": {},
   "outputs": [
    {
     "data": {
      "text/plain": [
       "\u001b[36mres5\u001b[39m: \u001b[32mDouble\u001b[39m = \u001b[32m5.776732351989604\u001b[39m"
      ]
     },
     "execution_count": 5,
     "metadata": {},
     "output_type": "execute_result"
    }
   ],
   "source": [
    "base.reduce((i,j) => i+j)"
   ]
  },
  {
   "cell_type": "markdown",
   "metadata": {},
   "source": [
    "# Fold (or Reduce with initial value)"
   ]
  },
  {
   "cell_type": "code",
   "execution_count": 6,
   "metadata": {},
   "outputs": [
    {
     "data": {
      "text/plain": [
       "\u001b[36mres6\u001b[39m: \u001b[32mDouble\u001b[39m = \u001b[32m105.7767323519896\u001b[39m"
      ]
     },
     "execution_count": 6,
     "metadata": {},
     "output_type": "execute_result"
    }
   ],
   "source": [
    "base.fold(100d)((i,j) => i+j)"
   ]
  },
  {
   "cell_type": "code",
   "execution_count": 13,
   "metadata": {},
   "outputs": [
    {
     "data": {
      "text/plain": [
       "\u001b[36mres13\u001b[39m: \u001b[32mAny\u001b[39m = \u001b[32m\"numbers: 0.3575458994271711 0.12221052251369346 0.29647223379359133 0.621774300605611 0.46473969921030744 0.1848487959478161 0.8032629466257281 0.8564244358421973 0.6169414518883778 0.47098290946956034 0.9815291566655487\"\u001b[39m"
      ]
     },
     "execution_count": 13,
     "metadata": {},
     "output_type": "execute_result"
    }
   ],
   "source": [
    "base.fold(\"numbers:\")((acc, v) => acc.toString() + \" \" + v.toString())"
   ]
  },
  {
   "cell_type": "markdown",
   "metadata": {},
   "source": [
    "# Partial function"
   ]
  },
  {
   "cell_type": "code",
   "execution_count": 6,
   "metadata": {},
   "outputs": [
    {
     "name": "stderr",
     "output_type": "stream",
     "text": [
      "cell7.sc:1: missing argument list for method fold in trait IterableOnceOps\n",
      "Unapplied methods are only converted to functions when a function type is expected.\n",
      "You can make this conversion explicit by writing `fold _` or `fold(_)(_)` instead of `fold`.\n",
      "val res7 = base.fold\n",
      "                ^\n",
      "Compilation Failed"
     ]
    }
   ],
   "source": [
    "base.fold"
   ]
  },
  {
   "cell_type": "markdown",
   "metadata": {},
   "source": [
    "# Lets implement compose"
   ]
  },
  {
   "cell_type": "code",
   "execution_count": null,
   "metadata": {},
   "outputs": [],
   "source": [
    "Array(1,2,3).c"
   ]
  }
 ],
 "metadata": {
  "kernelspec": {
   "display_name": "Scala 2.13",
   "language": "scala",
   "name": "scala213"
  },
  "language_info": {
   "codemirror_mode": "text/x-scala",
   "file_extension": ".sc",
   "mimetype": "text/x-scala",
   "name": "scala",
   "nbconvert_exporter": "script",
   "version": "2.13.12"
  }
 },
 "nbformat": 4,
 "nbformat_minor": 2
}
