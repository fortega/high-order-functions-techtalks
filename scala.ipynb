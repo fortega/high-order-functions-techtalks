{
 "cells": [
  {
   "cell_type": "markdown",
   "metadata": {},
   "source": [
    "# Signature"
   ]
  },
  {
   "cell_type": "code",
   "execution_count": 1,
   "metadata": {},
   "outputs": [
    {
     "data": {
      "text/plain": [
       "defined \u001b[32mfunction\u001b[39m \u001b[36madd\u001b[39m"
      ]
     },
     "execution_count": 1,
     "metadata": {},
     "output_type": "execute_result"
    }
   ],
   "source": [
    "def add(a: Int, b: Int): Int = a + b"
   ]
  },
  {
   "cell_type": "code",
   "execution_count": 2,
   "metadata": {},
   "outputs": [
    {
     "data": {
      "text/plain": [
       "\u001b[36moperation\u001b[39m: (\u001b[32mInt\u001b[39m, \u001b[32mInt\u001b[39m) => \u001b[32mInt\u001b[39m = ammonite.$sess.cell2$Helper$$Lambda$2115/1173162715@3ce696b0\n",
       "\u001b[36mres2_1\u001b[39m: \u001b[32mInt\u001b[39m = \u001b[32m3\u001b[39m"
      ]
     },
     "execution_count": 2,
     "metadata": {},
     "output_type": "execute_result"
    }
   ],
   "source": [
    "val operation = add _\n",
    "operation(1, 2)"
   ]
  },
  {
   "cell_type": "code",
   "execution_count": 3,
   "metadata": {},
   "outputs": [
    {
     "data": {
      "text/plain": [
       "defined \u001b[32mfunction\u001b[39m \u001b[36moperate\u001b[39m\n",
       "\u001b[36mres3_1\u001b[39m: \u001b[32mInt\u001b[39m = \u001b[32m3\u001b[39m"
      ]
     },
     "execution_count": 3,
     "metadata": {},
     "output_type": "execute_result"
    }
   ],
   "source": [
    "def operate[T](\n",
    "    op: (T, T) => T,\n",
    "    a: T,\n",
    "    b: T,\n",
    "): T = op(a, b)\n",
    "\n",
    "operate(add, 1, 2)"
   ]
  },
  {
   "cell_type": "code",
   "execution_count": 4,
   "metadata": {},
   "outputs": [
    {
     "data": {
      "text/plain": [
       "defined \u001b[32mfunction\u001b[39m \u001b[36mgetAdd\u001b[39m\n",
       "\u001b[36mres4_1\u001b[39m: \u001b[32mInt\u001b[39m = \u001b[32m3\u001b[39m"
      ]
     },
     "execution_count": 4,
     "metadata": {},
     "output_type": "execute_result"
    }
   ],
   "source": [
    "def getAdd(): (Int, Int) => Int = add _\n",
    "\n",
    "getAdd()(1,2)"
   ]
  },
  {
   "cell_type": "code",
   "execution_count": 5,
   "metadata": {},
   "outputs": [
    {
     "data": {
      "text/plain": [
       "defined \u001b[32mclass\u001b[39m \u001b[36mPerfResult\u001b[39m\n",
       "defined \u001b[32mfunction\u001b[39m \u001b[36mperformance\u001b[39m\n",
       "\u001b[36mres5_2\u001b[39m: \u001b[32mPerfResult\u001b[39m[\u001b[32mInt\u001b[39m] = \u001b[33mPerfResult\u001b[39m(result = \u001b[32m1784293664\u001b[39m, milis = \u001b[32m6L\u001b[39m)"
      ]
     },
     "execution_count": 5,
     "metadata": {},
     "output_type": "execute_result"
    }
   ],
   "source": [
    "case class PerfResult[T](\n",
    "    result: T,\n",
    "    milis: Long,\n",
    ")\n",
    "\n",
    "def performance[T](f: => T): PerfResult[T] = {\n",
    "    val start = System.currentTimeMillis\n",
    "    val result = f\n",
    "    val milis = System.currentTimeMillis - start\n",
    "    PerfResult(\n",
    "        result = result,\n",
    "        milis = milis,\n",
    "    )\n",
    "}\n",
    "\n",
    "performance {\n",
    "    var acc = 0\n",
    "    for (i <- (0 to 1000000)){\n",
    "        acc += i\n",
    "    }\n",
    "    acc\n",
    "}\n",
    "    "
   ]
  },
  {
   "cell_type": "code",
   "execution_count": 6,
   "metadata": {},
   "outputs": [
    {
     "data": {
      "text/plain": [
       "\u001b[36mres6\u001b[39m: \u001b[32mPerfResult\u001b[39m[\u001b[32mInt\u001b[39m] = \u001b[33mPerfResult\u001b[39m(result = \u001b[32m1784293664\u001b[39m, milis = \u001b[32m9L\u001b[39m)"
      ]
     },
     "execution_count": 6,
     "metadata": {},
     "output_type": "execute_result"
    }
   ],
   "source": [
    "performance {\n",
    "    (0 to 1000000).reduce(_+_)\n",
    "}"
   ]
  },
  {
   "cell_type": "markdown",
   "metadata": {},
   "source": [
    "# Filter\n",
    "\n",
    "T => Bool"
   ]
  },
  {
   "cell_type": "code",
   "execution_count": 6,
   "metadata": {},
   "outputs": [
    {
     "name": "stderr",
     "output_type": "stream",
     "text": [
      "cell7.sc:1: not found: value base\n",
      "val res7 = base.filter(i => i > 0.5)\n",
      "           ^\n",
      "Compilation Failed"
     ]
    }
   ],
   "source": [
    "base.filter(i => i > 0.5)"
   ]
  },
  {
   "cell_type": "markdown",
   "metadata": {},
   "source": [
    "# Sort"
   ]
  },
  {
   "cell_type": "code",
   "execution_count": null,
   "metadata": {},
   "outputs": [],
   "source": [
    "def secondDigit(a: Double) = {\n",
    "    (a*100).toInt % 10\n",
    "}\n",
    "\n",
    "val sorted = base.sortWith(_ < _)\n",
    "val sortedSecond = base.sortWith{\n",
    "    case (a, b) => secondDigit(a) < secondDigit(b)\n",
    "}"
   ]
  },
  {
   "cell_type": "markdown",
   "metadata": {},
   "source": [
    "# Map"
   ]
  },
  {
   "cell_type": "code",
   "execution_count": null,
   "metadata": {},
   "outputs": [],
   "source": [
    "base.map(i => i -> (i*100).toInt)"
   ]
  },
  {
   "cell_type": "markdown",
   "metadata": {},
   "source": [
    "# Reduce"
   ]
  },
  {
   "cell_type": "code",
   "execution_count": null,
   "metadata": {},
   "outputs": [],
   "source": [
    "base.reduce((i,j) => i+j)"
   ]
  },
  {
   "cell_type": "markdown",
   "metadata": {},
   "source": [
    "# Fold (or Reduce with initial value)"
   ]
  },
  {
   "cell_type": "code",
   "execution_count": null,
   "metadata": {},
   "outputs": [],
   "source": [
    "base.fold(100d)((i,j) => i+j)"
   ]
  },
  {
   "cell_type": "code",
   "execution_count": null,
   "metadata": {},
   "outputs": [],
   "source": [
    "base.fold(\"numbers:\")((acc, v) => acc.toString() + \" \" + v.toString())"
   ]
  },
  {
   "cell_type": "markdown",
   "metadata": {},
   "source": [
    "# Partial function"
   ]
  },
  {
   "cell_type": "code",
   "execution_count": null,
   "metadata": {},
   "outputs": [],
   "source": [
    "base.fold"
   ]
  },
  {
   "cell_type": "markdown",
   "metadata": {},
   "source": [
    "# Lets implement compose"
   ]
  },
  {
   "cell_type": "code",
   "execution_count": null,
   "metadata": {},
   "outputs": [],
   "source": [
    "Array(1,2,3).c"
   ]
  }
 ],
 "metadata": {
  "kernelspec": {
   "display_name": "Scala 2.13",
   "language": "scala",
   "name": "scala213"
  },
  "language_info": {
   "codemirror_mode": "text/x-scala",
   "file_extension": ".sc",
   "mimetype": "text/x-scala",
   "name": "scala",
   "nbconvert_exporter": "script",
   "version": "2.13.12"
  }
 },
 "nbformat": 4,
 "nbformat_minor": 4
}
