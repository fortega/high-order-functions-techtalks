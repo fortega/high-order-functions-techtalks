{
 "cells": [
  {
   "cell_type": "code",
   "execution_count": 1,
   "metadata": {},
   "outputs": [
    {
     "name": "stdout",
     "output_type": "stream",
     "text": [
      "3.0\n"
     ]
    },
    {
     "data": {
      "text/plain": [
       "defined \u001b[32mfunction\u001b[39m \u001b[36mcompose\u001b[39m\n",
       "defined \u001b[32mfunction\u001b[39m \u001b[36maddOne\u001b[39m\n",
       "defined \u001b[32mfunction\u001b[39m \u001b[36mhalf\u001b[39m\n",
       "\u001b[36mhalfAddOne\u001b[39m: \u001b[32mInt\u001b[39m => \u001b[32mDouble\u001b[39m = ammonite.$sess.cell1$Helper$$Lambda$2589/230102705@78a4a9b7"
      ]
     },
     "execution_count": 1,
     "metadata": {},
     "output_type": "execute_result"
    }
   ],
   "source": [
    "def compose[A, B, C](\n",
    "    f: A => B,\n",
    "    g: B => C,\n",
    "): A => C = {\n",
    "    def op(value: A): C = g(f(value))\n",
    "    op\n",
    "}\n",
    "\n",
    "def addOne(v: Int): Int = v + 1\n",
    "def half(v: Int): Double = v/2.0\n",
    "\n",
    "val halfAddOne = compose(addOne, half)\n",
    "println(halfAddOne(5))"
   ]
  }
 ],
 "metadata": {
  "kernelspec": {
   "display_name": "Scala 3.3",
   "language": "scala",
   "name": "scala33"
  },
  "language_info": {
   "codemirror_mode": "text/x-scala",
   "file_extension": ".sc",
   "mimetype": "text/x-scala",
   "name": "scala",
   "nbconvert_exporter": "script",
   "version": "2.13.12"
  }
 },
 "nbformat": 4,
 "nbformat_minor": 2
}
